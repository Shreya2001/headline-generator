{
 "cells": [
  {
   "cell_type": "markdown",
   "id": "e9193895",
   "metadata": {
    "id": "e9193895"
   },
   "source": [
    "# Import Packages"
   ]
  },
  {
   "cell_type": "code",
   "execution_count": 1,
   "id": "fd2261df",
   "metadata": {
    "id": "fd2261df"
   },
   "outputs": [],
   "source": [
    "# keras module for building LSTM \n",
    "import tensorflow as tf\n",
    "from tensorflow.keras.utils import pad_sequences\n",
    "from keras import preprocessing\n",
    "from keras.layers import Embedding, LSTM, Dense, Dropout\n",
    "from keras.preprocessing.text import Tokenizer\n",
    "from keras.callbacks import EarlyStopping\n",
    "from keras.models import Sequential\n",
    "import keras.utils as ku\n",
    "from keras.utils import np_utils\n",
    "\n",
    "\n",
    "# set seeds for reproducability\n",
    "from numpy.random import seed\n",
    "tf.random.set_seed(2)\n",
    "seed(1)\n",
    "\n",
    "import pandas as pd\n",
    "import numpy as np\n",
    "import string, os \n",
    "\n",
    "import warnings\n",
    "warnings.filterwarnings(\"ignore\")\n",
    "warnings.simplefilter(action='ignore', category=FutureWarning)"
   ]
  },
  {
   "cell_type": "markdown",
   "id": "9ae35156",
   "metadata": {
    "id": "9ae35156"
   },
   "source": [
    "# Data Pre-Proccessing"
   ]
  },
  {
   "cell_type": "markdown",
   "id": "cdbaef1f",
   "metadata": {
    "id": "cdbaef1f"
   },
   "source": [
    "## Extract headlines from all the three .csv files "
   ]
  },
  {
   "cell_type": "code",
   "execution_count": 2,
   "id": "4930d64a",
   "metadata": {
    "id": "4930d64a",
    "outputId": "d60c61cf-3e0c-46a5-e8e0-3e787ac493a6"
   },
   "outputs": [
    {
     "name": "stdout",
     "output_type": "stream",
     "text": [
      "articles1.csv\n",
      "articles2.csv\n",
      "articles3.csv\n"
     ]
    },
    {
     "data": {
      "text/plain": [
       "142568"
      ]
     },
     "execution_count": 2,
     "metadata": {},
     "output_type": "execute_result"
    }
   ],
   "source": [
    "curr_dir = 'Articles/'\n",
    "all_headlines = []\n",
    "for filename in os.listdir(curr_dir):\n",
    "    print(filename)\n",
    "    if 'articles' in filename:\n",
    "        article_df = pd.read_csv(curr_dir + filename)\n",
    "        all_headlines.extend(list(article_df.title.values))\n",
    "\n",
    "all_headlines = [h for h in all_headlines if type(h) == str]\n",
    "len(all_headlines)"
   ]
  },
  {
   "cell_type": "code",
   "execution_count": 3,
   "id": "6cc3dd56",
   "metadata": {
    "id": "6cc3dd56",
    "outputId": "6cc0e6aa-7e59-423f-e6a2-580166373bca"
   },
   "outputs": [
    {
     "data": {
      "text/plain": [
       "['House Republicans Fret About Winning Their Health Care Suit - The New York Times',\n",
       " 'Rift Between Officers and Residents as Killings Persist in South Bronx - The New York Times',\n",
       " 'Tyrus Wong, ‘Bambi’ Artist Thwarted by Racial Bias, Dies at 106 - The New York Times',\n",
       " 'Among Deaths in 2016, a Heavy Toll in Pop Music - The New York Times',\n",
       " 'Kim Jong-un Says North Korea Is Preparing to Test Long-Range Missile - The New York Times',\n",
       " 'Sick With a Cold, Queen Elizabeth Misses New Year’s Service - The New York Times',\n",
       " 'Taiwan’s President Accuses China of Renewed Intimidation - The New York Times',\n",
       " 'After ‘The Biggest Loser,’ Their Bodies Fought to Regain Weight - The New York Times',\n",
       " 'First, a Mixtape. Then a Romance. - The New York Times',\n",
       " 'Calling on Angels While Enduring the Trials of Job - The New York Times']"
      ]
     },
     "execution_count": 3,
     "metadata": {},
     "output_type": "execute_result"
    }
   ],
   "source": [
    "all_headlines[:10]"
   ]
  },
  {
   "cell_type": "markdown",
   "id": "e2440ed4",
   "metadata": {
    "id": "e2440ed4"
   },
   "source": [
    "## Cleaning the Data "
   ]
  },
  {
   "cell_type": "markdown",
   "id": "61d4f6d1",
   "metadata": {
    "id": "61d4f6d1"
   },
   "source": [
    "- Remove ' - The New York Times'\n",
    "- Remove punctuations and turn into lowercase\n",
    "- Ignore symbols"
   ]
  },
  {
   "cell_type": "code",
   "execution_count": 4,
   "id": "9725d795",
   "metadata": {
    "id": "9725d795",
    "outputId": "997cd8ae-8566-4c1e-8b7d-34fc0fa7c85d"
   },
   "outputs": [
    {
     "data": {
      "text/plain": [
       "['house republicans fret about winning their health care suit  ',\n",
       " 'rift between officers and residents as killings persist in south bronx  ',\n",
       " 'tyrus wong bambi artist thwarted by racial bias dies at 106  ',\n",
       " 'among deaths in 2016 a heavy toll in pop music  ',\n",
       " 'kim jongun says north korea is preparing to test longrange missile  ',\n",
       " 'sick with a cold queen elizabeth misses new years service  ',\n",
       " 'taiwans president accuses china of renewed intimidation  ',\n",
       " 'after the biggest loser their bodies fought to regain weight  ',\n",
       " 'first a mixtape then a romance  ',\n",
       " 'calling on angels while enduring the trials of job  ']"
      ]
     },
     "execution_count": 4,
     "metadata": {},
     "output_type": "execute_result"
    }
   ],
   "source": [
    "import re\n",
    "def clean_text(txt):\n",
    "    t = txt\n",
    "    if 'The New York Times' in txt:\n",
    "        t = txt.replace('The New York Times','')\n",
    "    t = re.sub(r'[^\\w\\s]', '', t).lower()\n",
    "    t = t.encode(\"utf8\").decode(\"ascii\",'ignore')\n",
    "    return t \n",
    "\n",
    "corpus = [clean_text(x) for x in all_headlines]\n",
    "corpus[:10]"
   ]
  },
  {
   "cell_type": "code",
   "execution_count": 5,
   "id": "fd0699fd",
   "metadata": {
    "id": "fd0699fd"
   },
   "outputs": [
    {
     "data": {
      "text/plain": [
       "4500"
      ]
     },
     "execution_count": 5,
     "metadata": {},
     "output_type": "execute_result"
    }
   ],
   "source": [
    "corpus = corpus[:4500]\n",
    "len(corpus)"
   ]
  },
  {
   "cell_type": "markdown",
   "id": "784aecc7",
   "metadata": {
    "id": "784aecc7"
   },
   "source": [
    "# Tokenization"
   ]
  },
  {
   "cell_type": "code",
   "execution_count": 6,
   "id": "cdb290f0",
   "metadata": {
    "id": "cdb290f0",
    "outputId": "96583927-7108-4b5e-92d2-23ffac2d4304"
   },
   "outputs": [
    {
     "data": {
      "text/plain": [
       "[[56, 87],\n",
       " [56, 87, 2735],\n",
       " [56, 87, 2735, 72],\n",
       " [56, 87, 2735, 72, 1302],\n",
       " [56, 87, 2735, 72, 1302, 57],\n",
       " [56, 87, 2735, 72, 1302, 57, 63],\n",
       " [56, 87, 2735, 72, 1302, 57, 63, 157],\n",
       " [56, 87, 2735, 72, 1302, 57, 63, 157, 262],\n",
       " [1596, 321],\n",
       " [1596, 321, 385]]"
      ]
     },
     "execution_count": 6,
     "metadata": {},
     "output_type": "execute_result"
    }
   ],
   "source": [
    "tokenizer = Tokenizer()\n",
    "\n",
    "def get_sequence_of_tokens(corpus):\n",
    "    ## tokenization\n",
    "    tokenizer.fit_on_texts(corpus)\n",
    "    total_words = len(tokenizer.word_index) + 1\n",
    "    \n",
    "    ## convert data to sequence of tokens \n",
    "    input_sequences = []\n",
    "    for line in corpus:\n",
    "        token_list = tokenizer.texts_to_sequences([line])[0]\n",
    "        for i in range(1, len(token_list)):\n",
    "            n_gram_sequence = token_list[:i+1]\n",
    "            input_sequences.append(n_gram_sequence)\n",
    "    return input_sequences, total_words\n",
    "\n",
    "inp_sequences, total_words = get_sequence_of_tokens(corpus)\n",
    "inp_sequences[:10]"
   ]
  },
  {
   "cell_type": "markdown",
   "id": "b60a16c4",
   "metadata": {
    "id": "b60a16c4"
   },
   "source": [
    "# Padding the Sequences and obtain Variables"
   ]
  },
  {
   "cell_type": "code",
   "execution_count": 7,
   "id": "b8d603ec",
   "metadata": {
    "id": "b8d603ec",
    "outputId": "f842cfa0-6b62-4095-a185-965b20d8022b",
    "scrolled": true
   },
   "outputs": [],
   "source": [
    "def generate_padded_sequences(input_sequences):\n",
    "    max_sequence_len = max([len(x) for x in input_sequences])\n",
    "    input_sequences = np.array(pad_sequences(input_sequences, maxlen=max_sequence_len, padding='pre'))\n",
    "    \n",
    "    predictors, label = input_sequences[:,:-1],input_sequences[:,-1]\n",
    "    label = np_utils.to_categorical(label, num_classes=total_words)\n",
    "    return predictors, label, max_sequence_len\n",
    "\n",
    "predictors, label, max_sequence_len = generate_padded_sequences(inp_sequences)"
   ]
  },
  {
   "cell_type": "markdown",
   "id": "b6a745bf",
   "metadata": {
    "id": "b6a745bf"
   },
   "source": [
    "# Create LSTM Model"
   ]
  },
  {
   "cell_type": "code",
   "execution_count": 8,
   "id": "a0df8ca8",
   "metadata": {
    "id": "a0df8ca8",
    "outputId": "e45f8c49-dc01-4de2-e460-db0574b8ad1f"
   },
   "outputs": [
    {
     "name": "stdout",
     "output_type": "stream",
     "text": [
      "Model: \"sequential\"\n",
      "_________________________________________________________________\n",
      " Layer (type)                Output Shape              Param #   \n",
      "=================================================================\n",
      " embedding (Embedding)       (None, 17, 10)            96200     \n",
      "                                                                 \n",
      " lstm (LSTM)                 (None, 100)               44400     \n",
      "                                                                 \n",
      " dropout (Dropout)           (None, 100)               0         \n",
      "                                                                 \n",
      " dense (Dense)               (None, 9620)              971620    \n",
      "                                                                 \n",
      "=================================================================\n",
      "Total params: 1,112,220\n",
      "Trainable params: 1,112,220\n",
      "Non-trainable params: 0\n",
      "_________________________________________________________________\n"
     ]
    }
   ],
   "source": [
    "def create_model(max_sequence_len, total_words):\n",
    "    input_len = max_sequence_len - 1\n",
    "    model = Sequential()\n",
    "    \n",
    "    # Add Input Embedding Layer\n",
    "    model.add(Embedding(total_words, 10, input_length=input_len))\n",
    "    \n",
    "    # Add Hidden Layer 1 - LSTM Layer\n",
    "    model.add(LSTM(100))\n",
    "    model.add(Dropout(0.1))\n",
    "    \n",
    "    # Add Output Layer\n",
    "    model.add(Dense(total_words, activation='softmax'))\n",
    "\n",
    "    model.compile(loss='categorical_crossentropy', optimizer='adam')\n",
    "    \n",
    "    return model\n",
    "\n",
    "model = create_model(max_sequence_len, total_words)\n",
    "model.summary()"
   ]
  },
  {
   "cell_type": "markdown",
   "id": "4ec8df96",
   "metadata": {
    "id": "4ec8df96"
   },
   "source": [
    "### Train the Model "
   ]
  },
  {
   "cell_type": "code",
   "execution_count": 9,
   "id": "63e95339",
   "metadata": {
    "id": "63e95339",
    "outputId": "95b2bad0-122b-4b09-b371-1391f587f190"
   },
   "outputs": [
    {
     "name": "stdout",
     "output_type": "stream",
     "text": [
      "Epoch 1/60\n",
      "1218/1218 [==============================] - 32s 19ms/step - loss: 7.9876\n",
      "Epoch 2/60\n",
      "1218/1218 [==============================] - 22s 18ms/step - loss: 7.5461\n",
      "Epoch 3/60\n",
      "1218/1218 [==============================] - 23s 19ms/step - loss: 7.3810\n",
      "Epoch 4/60\n",
      "1218/1218 [==============================] - 23s 19ms/step - loss: 7.2108\n",
      "Epoch 5/60\n",
      "1218/1218 [==============================] - 22s 18ms/step - loss: 7.0194\n",
      "Epoch 6/60\n",
      "1218/1218 [==============================] - 23s 19ms/step - loss: 6.8019\n",
      "Epoch 7/60\n",
      "1218/1218 [==============================] - 23s 19ms/step - loss: 6.5606\n",
      "Epoch 8/60\n",
      "1218/1218 [==============================] - 23s 19ms/step - loss: 6.3153\n",
      "Epoch 9/60\n",
      "1218/1218 [==============================] - 23s 19ms/step - loss: 6.0749\n",
      "Epoch 10/60\n",
      "1218/1218 [==============================] - 23s 19ms/step - loss: 5.8470\n",
      "Epoch 11/60\n",
      "1218/1218 [==============================] - 23s 19ms/step - loss: 5.6301\n",
      "Epoch 12/60\n",
      "1218/1218 [==============================] - 23s 19ms/step - loss: 5.4198\n",
      "Epoch 13/60\n",
      "1218/1218 [==============================] - 23s 19ms/step - loss: 5.2276\n",
      "Epoch 14/60\n",
      "1218/1218 [==============================] - 23s 19ms/step - loss: 5.0318\n",
      "Epoch 15/60\n",
      "1218/1218 [==============================] - 23s 19ms/step - loss: 4.8470\n",
      "Epoch 16/60\n",
      "1218/1218 [==============================] - 23s 19ms/step - loss: 4.6696\n",
      "Epoch 17/60\n",
      "1218/1218 [==============================] - 23s 19ms/step - loss: 4.4966\n",
      "Epoch 18/60\n",
      "1218/1218 [==============================] - 22s 18ms/step - loss: 4.3450\n",
      "Epoch 19/60\n",
      "1218/1218 [==============================] - 22s 18ms/step - loss: 4.1899\n",
      "Epoch 20/60\n",
      "1218/1218 [==============================] - 23s 19ms/step - loss: 4.0414\n",
      "Epoch 21/60\n",
      "1218/1218 [==============================] - 23s 19ms/step - loss: 3.9076\n",
      "Epoch 22/60\n",
      "1218/1218 [==============================] - 23s 19ms/step - loss: 3.7756\n",
      "Epoch 23/60\n",
      "1218/1218 [==============================] - 23s 19ms/step - loss: 3.6580\n",
      "Epoch 24/60\n",
      "1218/1218 [==============================] - 23s 19ms/step - loss: 3.5449\n",
      "Epoch 25/60\n",
      "1218/1218 [==============================] - 23s 19ms/step - loss: 3.4343\n",
      "Epoch 26/60\n",
      "1218/1218 [==============================] - 23s 19ms/step - loss: 3.3345\n",
      "Epoch 27/60\n",
      "1218/1218 [==============================] - 23s 19ms/step - loss: 3.2326\n",
      "Epoch 28/60\n",
      "1218/1218 [==============================] - 22s 18ms/step - loss: 3.1394\n",
      "Epoch 29/60\n",
      "1218/1218 [==============================] - 23s 19ms/step - loss: 3.0591\n",
      "Epoch 30/60\n",
      "1218/1218 [==============================] - 23s 19ms/step - loss: 2.9721\n",
      "Epoch 31/60\n",
      "1218/1218 [==============================] - 23s 19ms/step - loss: 2.8957\n",
      "Epoch 32/60\n",
      "1218/1218 [==============================] - 23s 19ms/step - loss: 2.8166\n",
      "Epoch 33/60\n",
      "1218/1218 [==============================] - 22s 18ms/step - loss: 2.7538\n",
      "Epoch 34/60\n",
      "1218/1218 [==============================] - 23s 19ms/step - loss: 2.6813\n",
      "Epoch 35/60\n",
      "1218/1218 [==============================] - 21s 17ms/step - loss: 2.6251\n",
      "Epoch 36/60\n",
      "1218/1218 [==============================] - 23s 19ms/step - loss: 2.5590\n",
      "Epoch 37/60\n",
      "1218/1218 [==============================] - 23s 19ms/step - loss: 2.5021\n",
      "Epoch 38/60\n",
      "1218/1218 [==============================] - 20s 17ms/step - loss: 2.4497\n",
      "Epoch 39/60\n",
      "1218/1218 [==============================] - 22s 18ms/step - loss: 2.3900\n",
      "Epoch 40/60\n",
      "1218/1218 [==============================] - 21s 17ms/step - loss: 2.3427\n",
      "Epoch 41/60\n",
      "1218/1218 [==============================] - 22s 18ms/step - loss: 2.2885\n",
      "Epoch 42/60\n",
      "1218/1218 [==============================] - 22s 18ms/step - loss: 2.2437\n",
      "Epoch 43/60\n",
      "1218/1218 [==============================] - 19s 15ms/step - loss: 2.1979\n",
      "Epoch 44/60\n",
      "1218/1218 [==============================] - 21s 17ms/step - loss: 2.1564\n",
      "Epoch 45/60\n",
      "1218/1218 [==============================] - 22s 18ms/step - loss: 2.1119\n",
      "Epoch 46/60\n",
      "1218/1218 [==============================] - 22s 18ms/step - loss: 2.0750\n",
      "Epoch 47/60\n",
      "1218/1218 [==============================] - 22s 18ms/step - loss: 2.0395\n",
      "Epoch 48/60\n",
      "1218/1218 [==============================] - 22s 18ms/step - loss: 2.0018\n",
      "Epoch 49/60\n",
      "1218/1218 [==============================] - 22s 18ms/step - loss: 1.9654\n",
      "Epoch 50/60\n",
      "1218/1218 [==============================] - 18s 15ms/step - loss: 1.9349\n",
      "Epoch 51/60\n",
      "1218/1218 [==============================] - 21s 17ms/step - loss: 1.9003\n",
      "Epoch 52/60\n",
      "1218/1218 [==============================] - 22s 18ms/step - loss: 1.8697\n",
      "Epoch 53/60\n",
      "1218/1218 [==============================] - 22s 18ms/step - loss: 1.8365\n",
      "Epoch 54/60\n",
      "1218/1218 [==============================] - 22s 18ms/step - loss: 1.8180\n",
      "Epoch 55/60\n",
      "1218/1218 [==============================] - 22s 18ms/step - loss: 1.7890\n",
      "Epoch 56/60\n",
      "1218/1218 [==============================] - 22s 18ms/step - loss: 1.7637\n",
      "Epoch 57/60\n",
      "1218/1218 [==============================] - 22s 18ms/step - loss: 1.7332\n",
      "Epoch 58/60\n",
      "1218/1218 [==============================] - 22s 18ms/step - loss: 1.7101\n",
      "Epoch 59/60\n",
      "1218/1218 [==============================] - 20s 16ms/step - loss: 1.6867\n",
      "Epoch 60/60\n",
      "1218/1218 [==============================] - 17s 14ms/step - loss: 1.6630\n"
     ]
    }
   ],
   "source": [
    "lstm = model.fit(predictors, label, epochs=60, verbose=1, batch_size=32)"
   ]
  },
  {
   "cell_type": "code",
   "execution_count": 10,
   "id": "79894079",
   "metadata": {
    "id": "79894079",
    "outputId": "5580bb7a-1d93-49e6-f48c-42f2ee2cb294"
   },
   "outputs": [
    {
     "data": {
      "image/png": "[encoded data removed]",
      "text/plain": [
       "<Figure size 576x288 with 1 Axes>"
      ]
     },
     "metadata": {
      "needs_background": "light"
     },
     "output_type": "display_data"
    }
   ],
   "source": [
    "import matplotlib.pyplot as plt\n",
    "plt.figure(figsize=(8,4))\n",
    "plt.plot(lstm.history['loss'], label='Train Loss')\n",
    "plt.title('model loss')\n",
    "plt.ylabel('loss')\n",
    "plt.xlabel('epochs')\n",
    "plt.legend(loc='upper right')\n",
    "plt.show()"
   ]
  },
  {
   "cell_type": "markdown",
   "id": "16c5c6b2",
   "metadata": {
    "id": "16c5c6b2"
   },
   "source": [
    "# Predictions"
   ]
  },
  {
   "cell_type": "code",
   "execution_count": 11,
   "id": "cacf4ca9",
   "metadata": {
    "id": "cacf4ca9"
   },
   "outputs": [],
   "source": [
    "def generate_text(seed_text, next_words, model, max_sequence_len):\n",
    "    for _ in range(next_words):\n",
    "        token_list = tokenizer.texts_to_sequences([seed_text])[0]\n",
    "        token_list = pad_sequences([token_list], maxlen=max_sequence_len-1, padding='pre')\n",
    "        predicted = np.argmax(model.predict(token_list), axis=-1)\n",
    "        \n",
    "        output_word = \"\"\n",
    "        for word,index in tokenizer.word_index.items():\n",
    "            if index == predicted:\n",
    "                output_word = word\n",
    "                break\n",
    "        seed_text += \" \"+output_word\n",
    "    return seed_text.title()"
   ]
  },
  {
   "cell_type": "code",
   "execution_count": 23,
   "id": "c487b1e6",
   "metadata": {
    "id": "c487b1e6",
    "outputId": "99bd8bff-294b-421b-b8d3-2cbc5749d4a8"
   },
   "outputs": [
    {
     "name": "stdout",
     "output_type": "stream",
     "text": [
      "1/1 [==============================] - 0s 38ms/step\n",
      "1/1 [==============================] - 0s 40ms/step\n",
      "1/1 [==============================] - 0s 40ms/step\n",
      "1/1 [==============================] - 0s 36ms/step\n",
      "1/1 [==============================] - 0s 40ms/step\n",
      "1/1 [==============================] - 0s 42ms/step\n",
      "1/1 [==============================] - 0s 37ms/step\n",
      "Europe Combats A New Foe Of Political Stability\n",
      "1/1 [==============================] - 0s 34ms/step\n",
      "1/1 [==============================] - 0s 44ms/step\n",
      "1/1 [==============================] - 0s 43ms/step\n",
      "1/1 [==============================] - 0s 40ms/step\n",
      "1/1 [==============================] - 0s 40ms/step\n",
      "1/1 [==============================] - 0s 36ms/step\n",
      "Donald Trump And Hillary Clinton During The Debate\n",
      "1/1 [==============================] - 0s 48ms/step\n",
      "1/1 [==============================] - 0s 50ms/step\n",
      "1/1 [==============================] - 0s 43ms/step\n",
      "1/1 [==============================] - 0s 43ms/step\n",
      "1/1 [==============================] - 0s 41ms/step\n",
      "1/1 [==============================] - 0s 43ms/step\n",
      "1/1 [==============================] - 0s 38ms/step\n",
      "1/1 [==============================] - 0s 40ms/step\n",
      "1/1 [==============================] - 0s 40ms/step\n",
      "Elon Musk Says Pending Tesla Updates Could Have Prevented Fatal Crash\n",
      "1/1 [==============================] - 0s 45ms/step\n",
      "1/1 [==============================] - 0s 45ms/step\n",
      "1/1 [==============================] - 0s 36ms/step\n",
      "1/1 [==============================] - 0s 43ms/step\n",
      "1/1 [==============================] - 0s 56ms/step\n",
      "1/1 [==============================] - 0s 50ms/step\n",
      "Sweden To Close Your Thursday Evening Briefing\n"
     ]
    }
   ],
   "source": [
    "print(generate_text(\"Europe\", 7, model, max_sequence_len))\n",
    "print(generate_text(\"donald trump\", 6, model, max_sequence_len))\n",
    "print(generate_text(\"elon musk\", 9, model, max_sequence_len))\n",
    "print(generate_text(\"Sweden\", 6, model, max_sequence_len))"
   ]
  },
  {
   "cell_type": "code",
   "execution_count": null,
   "id": "3ff262fb",
   "metadata": {},
   "outputs": [],
   "source": []
  }
 ],
 "metadata": {
  "colab": {
   "provenance": []
  },
  "kernelspec": {
   "display_name": "Python 3 (ipykernel)",
   "language": "python",
   "name": "python3"
  },
  "language_info": {
   "codemirror_mode": {
    "name": "ipython",
    "version": 3
   },
   "file_extension": ".py",
   "mimetype": "text/x-python",
   "name": "python",
   "nbconvert_exporter": "python",
   "pygments_lexer": "ipython3",
   "version": "3.9.12"
  }
 },
 "nbformat": 4,
 "nbformat_minor": 5
}
